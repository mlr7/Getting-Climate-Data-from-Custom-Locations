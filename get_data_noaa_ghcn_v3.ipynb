{
 "cells": [
  {
   "cell_type": "code",
   "execution_count": null,
   "id": "59a38d29",
   "metadata": {},
   "outputs": [],
   "source": []
  },
  {
   "cell_type": "markdown",
   "id": "410b11cd",
   "metadata": {},
   "source": [
    "### Get latest NOAA GHCN dataset for Custom Location"
   ]
  },
  {
   "cell_type": "code",
   "execution_count": 2,
   "id": "9b8fd69c",
   "metadata": {},
   "outputs": [],
   "source": [
    "%matplotlib inline\n",
    "\n",
    "import numpy as np\n",
    "import pandas as pd\n",
    "\n",
    "import requests\n",
    "import gzip\n",
    "\n",
    "import time\n",
    "\n",
    "import warnings\n",
    "warnings.filterwarnings(\"ignore\")"
   ]
  },
  {
   "cell_type": "code",
   "execution_count": 3,
   "id": "fce53f36",
   "metadata": {},
   "outputs": [],
   "source": [
    "# https://www.ncei.noaa.gov/pub/data/ghcn/daily/ghcnd-stations.txt\n",
    "# USC00046624  34.5883 -118.0939  796.1 CA PALMDALE  \n",
    "# USW00023182  34.6294 -118.0831  764.7 CA PALMDALE AP 72382\n",
    "# https://www1.ncdc.noaa.gov/pub/data/ghcn/daily/by_station/USW00023182.csv.gz\n",
    "# https://www.tutorialspoint.com/downloading-files-from-web-using-python\n",
    "\n",
    "# https://www.ncei.noaa.gov/pub/data/ghcn/daily/readme.txt\n",
    "# https://github.com/gojiplus/get-weather-data/blob/master/noaaweb/noaaweb.py"
   ]
  },
  {
   "cell_type": "code",
   "execution_count": 4,
   "id": "4f1d2b64",
   "metadata": {},
   "outputs": [],
   "source": [
    "def get_noaa_ghcn_data(ghcn_data_file):\n",
    "    '''\n",
    "    '''\n",
    "    print('getting ' + ghcn_data_file)\n",
    "    \n",
    "    url = 'https://www1.ncdc.noaa.gov/pub/data/ghcn/daily/by_station/' + ghcn_data_file\n",
    "    r = requests.get(url, allow_redirects=True)\n",
    "    open('./USW00023182.csv.gz', 'wb').write(r.content)\n",
    "    \n",
    "    #with gzip.open('./data_noaa/USW00023182.csv.gz', 'rb') as f:\n",
    "    #    file_content = f.read()\n",
    "    \n",
    "    df_noaa = pd.read_csv('./USW00023182.csv.gz', \n",
    "                          #nrows=100, \n",
    "                          compression='gzip',\n",
    "                          header = None,\n",
    "                          error_bad_lines=False\n",
    "                         )\n",
    "    df_noaa.columns = ['station', 'date', 'quantity', 'value', \n",
    "                       'detail1', 'detail2', 'detail3', 'detail4']\n",
    "\n",
    "    df_noaa['date'] = pd.to_datetime(df_noaa['date'], format='%Y%m%d')\n",
    "    df_noaa = df_noaa.sort_values(by='date')\n",
    "    df_noaa = df_noaa.reset_index(drop=True)\n",
    "    \n",
    "    print(\"returning data: \" + str(df_noaa.shape))\n",
    "    \n",
    "    return df_noaa"
   ]
  },
  {
   "cell_type": "code",
   "execution_count": 5,
   "id": "d4c6e0b5",
   "metadata": {},
   "outputs": [
    {
     "name": "stdout",
     "output_type": "stream",
     "text": [
      "getting USW00023182.csv.gz\n",
      "returning data: (145949, 8)\n"
     ]
    }
   ],
   "source": [
    "df_noaa = get_noaa_ghcn_data(ghcn_data_file='USW00023182.csv.gz')"
   ]
  },
  {
   "cell_type": "code",
   "execution_count": 6,
   "id": "9b9f3a4b",
   "metadata": {},
   "outputs": [
    {
     "data": {
      "text/plain": [
       "TMIN    21374\n",
       "TMAX    21373\n",
       "PRCP    18488\n",
       "SNWD    12660\n",
       "SNOW    12390\n",
       "AWND     9056\n",
       "WSF2     9038\n",
       "WDF2     9038\n",
       "WSF5     8944\n",
       "WDF5     8942\n",
       "PGTM     4811\n",
       "FMTM     2810\n",
       "TAVG     2643\n",
       "TSUN     1171\n",
       "WT08     1155\n",
       "WT16      966\n",
       "WT01      631\n",
       "WT03      233\n",
       "WT18      131\n",
       "WT02       38\n",
       "WT07       31\n",
       "WT05       17\n",
       "WT09        4\n",
       "WSFG        3\n",
       "WT04        1\n",
       "WT06        1\n",
       "Name: quantity, dtype: int64"
      ]
     },
     "execution_count": 6,
     "metadata": {},
     "output_type": "execute_result"
    }
   ],
   "source": [
    "df_noaa['quantity'].value_counts()"
   ]
  },
  {
   "cell_type": "markdown",
   "id": "47334481",
   "metadata": {},
   "source": [
    "TMIN    21374 TMIN = Minimum temperature (tenths of degrees C)\n",
    "TMAX    21373 TMAX = Maximum temperature (tenths of degrees C)\n",
    "PRCP    18488 PRCP = Precipitation (tenths of mm)\n",
    "SNWD    12660 SNWD = Snow depth (mm)\n",
    "SNOW    12390 SNOW = Snowfall (mm)\n",
    "AWND     9056 AWND = Average daily wind speed (tenths of meters per second)\n",
    "WSF2     9038 WSF2 = Fastest 2-minute wind speed (tenths of meters per second)\n",
    "WDF2     9038 WDF2 = Direction of fastest 2-minute wind (degrees)\n",
    "WSF5     8944 WSF5 = Fastest 5-second wind speed (tenths of meters per second)\n",
    "WDF5     8942 WDF5 = Direction of fastest 5-second wind (degrees)\n",
    "PGTM     4811 PGTM = Peak gust time (hours and minutes, i.e., HHMM)\n",
    "FMTM     2810 FMTM = Time of fastest mile or fastest 1-minute wind (hours and minutes, i.e., HHMM)\n",
    "TAVG     2643 TAVG = Average temperature (tenths of degrees C) [Note that TAVG from source 'S' corresponds\n",
    "\t\t             to an average for the period ending at 2400 UTC rather than local midnight]\n",
    "TSUN     1171 TSUN = Daily total sunshine (minutes)\n",
    "WT08     1155 WT08 - Smoke or haze\n",
    "WT16      966 WT16 - Rain (may include freezing rain, drizzle, and freezing drizzle)\n",
    "WT01      631 WT01 - Fog, ice fog, or freezing fog (may include heavy fog)\n",
    "WT03      233 WT03 - Thunder\n",
    "WT18      131 WT18 - Snow, snow pellets, snow grains, or ice crystals\n",
    "WT02       38 WT02 - Heavy fog or heavy freezing fog (not always distinguished from fog)\n",
    "WT07       31 WT07 - Dust, volcanic ash, blowing dust, blowing sand, or blowing obstruction\n",
    "WT05       17 WT05 - Hail (may include small hail)\n",
    "WT09        4 WT09 - Blowing or drifting snow\n",
    "WSFG        3 WSFG - Peak guest wind speed (tenths of meters per second)\n",
    "WT04        1 WT04 - Ice pellets, sleet, snow pellets, or small hail\n",
    "WT06        1 WT06 - Glaze or rime\n",
    "\n",
    "\n",
    "Want to have: ADPT: Avg Dew Point Temp for day (tenths of degrees C). (combine with temp and calc RelHum) \n",
    "                        (python package can calc with a call, add this)\n",
    "                        https://pypi.org/project/MetPy/\n",
    "                        https://ui.adsabs.harvard.edu/abs/2019AGUFMNS21A..16M/abstract\n",
    "                        https://github.com/gojiplus/get-weather-data\n",
    "                        \n",
    "Sources for Forecast data:\n",
    "\n",
    "    https://pypi.org/project/noaa-sdk/\n",
    "\n",
    "    https://forecast.weather.gov/MapClick.php?CityName=Palmdale&state=CA&site=LOX&textField1=34.5794&textField2=-118.116&e=1#.ZDvy7brMJPY\n",
    "    https://forecast.weather.gov/MapClick.php?lat=34.5794&lon=-118.116&unit=0&lg=english&FcstType=graphical\n",
    "    https://forecast.weather.gov/MapClick.php?lat=34.5794&lon=-118.116&lg=english&&FcstType=digital"
   ]
  },
  {
   "cell_type": "markdown",
   "id": "1b20e338",
   "metadata": {},
   "source": [
    "### Pivot NOAA GHCN data"
   ]
  },
  {
   "cell_type": "code",
   "execution_count": null,
   "id": "06607c46",
   "metadata": {},
   "outputs": [],
   "source": [
    "def pivot_noaa_ghcn(df_noaa):\n",
    "    '''\n",
    "    '''\n",
    "    df_noaa_daily = df_noaa.pivot(index='date', columns='quantity', values='value')\n",
    "    df_noaa_daily = df_noaa_daily.reset_index()\n",
    "    df_noaa_daily['date'] = pd.to_datetime(df_noaa_daily['date'])\n",
    "    df_noaa_daily = df_noaa_daily.sort_values(by='date')\n",
    "    df_noaa_daily = df_noaa_daily.reset_index(drop=True)\n",
    "    \n",
    "    print(df_noaa.shape, df_noaa_daily.shape)\n",
    "    \n",
    "    return df_noaa_daily"
   ]
  },
  {
   "cell_type": "code",
   "execution_count": null,
   "id": "c71cfe5a",
   "metadata": {},
   "outputs": [],
   "source": [
    "df_noaa_daily = pivot_noaa_ghcn(df_noaa)"
   ]
  },
  {
   "cell_type": "markdown",
   "id": "569a8434",
   "metadata": {},
   "source": [
    "### NOAA Feature Engineering"
   ]
  },
  {
   "cell_type": "code",
   "execution_count": null,
   "id": "0a830c04",
   "metadata": {},
   "outputs": [],
   "source": [
    "def noaa_dhcn_feature_engineer(df_noaa_daily):\n",
    "    '''\n",
    "    '''\n",
    "    df_noaa_daily['TMAX_C'] = df_noaa_daily['TMAX'] / 10\n",
    "    df_noaa_daily['TMAX_F'] = (df_noaa_daily['TMAX_C'] * (9/5) ) + 32\n",
    "\n",
    "    df_noaa_daily['TMIN_C'] = df_noaa_daily['TMIN'] / 10\n",
    "    df_noaa_daily['TMIN_F'] = (df_noaa_daily['TMIN_C'] * (9/5) ) + 32\n",
    "\n",
    "    df_noaa_daily['AWND_ms'] = df_noaa_daily['AWND'] / 10   # AWND = Average daily wind speed (tenths of meters per second)\n",
    "    df_noaa_daily['AWND_mph'] = df_noaa_daily['AWND_ms'] * 2.23694  # to mph\n",
    "\n",
    "    df_noaa_daily['PRCP_mm'] = df_noaa_daily['PRCP'] / 10  # PRCP = Precipitation (tenths of mm)\n",
    "    df_noaa_daily['PRCP_in'] = df_noaa_daily['PRCP_mm'] / 25.4\n",
    "\n",
    "    df_noaa_daily['SNOW_in'] = df_noaa_daily['SNOW'] / 25.4 # SNOW = Snowfall (mm)\n",
    "    \n",
    "    return df_noaa_daily"
   ]
  },
  {
   "cell_type": "code",
   "execution_count": null,
   "id": "23704052",
   "metadata": {},
   "outputs": [],
   "source": [
    "print(df_noaa_daily.shape)\n",
    "df_noaa_daily = noaa_dhcn_feature_engineer(df_noaa_daily)\n",
    "print(df_noaa_daily.shape)"
   ]
  },
  {
   "cell_type": "markdown",
   "id": "f7fb2a41",
   "metadata": {},
   "source": [
    "### Save data"
   ]
  },
  {
   "cell_type": "code",
   "execution_count": null,
   "id": "7c5581f8",
   "metadata": {},
   "outputs": [],
   "source": [
    "df_noaa_daily.to_csv('data_noaaX_pivoted_customlocation_' + str(round(time.time())) + '.csv')"
   ]
  },
  {
   "cell_type": "code",
   "execution_count": null,
   "id": "46497de8",
   "metadata": {},
   "outputs": [],
   "source": []
  }
 ],
 "metadata": {
  "kernelspec": {
   "display_name": "Python 3",
   "language": "python",
   "name": "python3"
  },
  "language_info": {
   "codemirror_mode": {
    "name": "ipython",
    "version": 3
   },
   "file_extension": ".py",
   "mimetype": "text/x-python",
   "name": "python",
   "nbconvert_exporter": "python",
   "pygments_lexer": "ipython3",
   "version": "3.8.8"
  }
 },
 "nbformat": 4,
 "nbformat_minor": 5
}
